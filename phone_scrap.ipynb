{
 "cells": [
  {
   "cell_type": "code",
   "execution_count": 1,
   "metadata": {},
   "outputs": [
    {
     "name": "stderr",
     "output_type": "stream",
     "text": [
      "c:\\Users\\Shubham Indoliya\\AppData\\Local\\Programs\\Python\\Python38\\lib\\site-packages\\requests\\__init__.py:102: RequestsDependencyWarning: urllib3 (1.26.8) or chardet (5.1.0)/charset_normalizer (2.0.10) doesn't match a supported version!\n",
      "  warnings.warn(\"urllib3 ({}) or chardet ({})/charset_normalizer ({}) doesn't match a supported \"\n"
     ]
    }
   ],
   "source": [
    "import requests\n",
    "from bs4 import BeautifulSoup\n",
    "import pandas as pd"
   ]
  },
  {
   "cell_type": "code",
   "execution_count": 2,
   "metadata": {},
   "outputs": [],
   "source": [
    "amazon_url = \"https://www.amazon.in/s?k=phones\""
   ]
  },
  {
   "cell_type": "code",
   "execution_count": 3,
   "metadata": {},
   "outputs": [],
   "source": [
    "# user - agent tells that you are trying to access this website and you are a genuine user by identifying your browser information\n",
    "header = ({'user-agent' : 'Mozilla/5.0 (Windows NT 10.0; Win64; x64) AppleWebKit/537.36 (KHTML, like Gecko) Chrome/113.0.0.0 Safari/537.36', 'Accept-Language' : 'en-US, en;q=0.5'}) "
   ]
  },
  {
   "cell_type": "code",
   "execution_count": 4,
   "metadata": {},
   "outputs": [
    {
     "name": "stdout",
     "output_type": "stream",
     "text": [
      "<Response [200]>\n"
     ]
    }
   ],
   "source": [
    "webpage = requests.get(url = amazon_url, headers=header)\n",
    "print(webpage)"
   ]
  },
  {
   "cell_type": "code",
   "execution_count": null,
   "metadata": {},
   "outputs": [],
   "source": []
  },
  {
   "cell_type": "code",
   "execution_count": 6,
   "metadata": {},
   "outputs": [
    {
     "name": "stdout",
     "output_type": "stream",
     "text": [
      "<class 'bytes'>\n"
     ]
    }
   ],
   "source": [
    "print(type(webpage.content))"
   ]
  },
  {
   "cell_type": "code",
   "execution_count": 7,
   "metadata": {},
   "outputs": [],
   "source": [
    "soup = BeautifulSoup(webpage.content,'html.parser')"
   ]
  },
  {
   "cell_type": "code",
   "execution_count": 8,
   "metadata": {},
   "outputs": [
    {
     "data": {
      "text/plain": [
       "[<a class=\"a-link-normal s-underline-text s-underline-link-text s-link-style a-text-normal\" href=\"/sspa/click?ie=UTF8&amp;spc=MToxODk0ODQ0NDA1NDY4NDI2OjE2ODU3NzE2NTY6c3BfYXRmOjIwMTExMjExMjQ0Mzk4OjowOjo&amp;url=%2FApple-iPhone-Plus-128GB-Starlight%2Fdp%2FB0BDJFTGK6%2Fref%3Dsr_1_1_sspa%3Fkeywords%3Dphones%26qid%3D1685771656%26sr%3D8-1-spons%26sp_csd%3Dd2lkZ2V0TmFtZT1zcF9hdGY%26psc%3D1\" target=\"_blank\"><span class=\"a-size-medium a-color-base a-text-normal\">Apple iPhone 14 Plus (128 GB) - Starlight</span> </a>,\n",
       " <a class=\"a-link-normal s-underline-text s-underline-link-text s-link-style a-text-normal\" href=\"/sspa/click?ie=UTF8&amp;spc=MToxODk0ODQ0NDA1NDY4NDI2OjE2ODU3NzE2NTY6c3BfYXRmOjIwMTExMjExMjQ4NTk4OjowOjo&amp;url=%2FApple-iPhone-14-128GB-Starlight%2Fdp%2FB0BDK8LKPJ%2Fref%3Dsr_1_2_sspa%3Fkeywords%3Dphones%26qid%3D1685771656%26sr%3D8-2-spons%26sp_csd%3Dd2lkZ2V0TmFtZT1zcF9hdGY%26psc%3D1\" target=\"_blank\"><span class=\"a-size-medium a-color-base a-text-normal\">Apple iPhone 14 (128 GB) - Starlight</span> </a>,\n",
       " <a class=\"a-link-normal s-underline-text s-underline-link-text s-link-style a-text-normal\" href=\"/realme-Feather-Segment-Charging-Slimmest/dp/B0C45N5VPT/ref=sr_1_3?keywords=phones&amp;qid=1685771656&amp;sr=8-3\" target=\"_blank\"><span class=\"a-size-medium a-color-base a-text-normal\">realme narzo N53 (Feather Gold, 4GB+64GB) 33W Segment Fastest Charging | Slimmest Phone in Segment | 90 Hz Smooth Display</span> </a>,\n",
       " <a class=\"a-link-normal s-underline-text s-underline-link-text s-link-style a-text-normal\" href=\"/Samsung-Storage-MediaTek-Octa-core-Processor/dp/B0BMGB2TPR/ref=sr_1_4?keywords=phones&amp;qid=1685771656&amp;sr=8-4\" target=\"_blank\"><span class=\"a-size-medium a-color-base a-text-normal\">Samsung Galaxy M04 Light Green, 4GB RAM, 64GB Storage | Upto 8GB RAM with RAM Plus | MediaTek Helio P35 Octa-core Processor | 5000 mAh Battery | 13MP Dual Camera</span> </a>,\n",
       " <a class=\"a-link-normal s-underline-text s-underline-link-text s-link-style a-text-normal\" href=\"/realme-Storage-Processor-Triple-Display/dp/B09RMN7HY3/ref=sr_1_5?keywords=phones&amp;qid=1685771656&amp;sr=8-5\" target=\"_blank\"><span class=\"a-size-medium a-color-base a-text-normal\">realme narzo 50 (Speed Black, 6GB RAM+128GB Storage) Helio G96 Processor | 50MP AI Triple Camera | 120Hz Ultra Smooth Display</span> </a>,\n",
       " <a class=\"a-link-normal s-underline-text s-underline-link-text s-link-style a-text-normal\" href=\"/realme-Feather-Segment-Charging-Slimmest/dp/B0C45N5VPT/ref=sxin_16_aspa_sqa?c_c=1580471489&amp;content-id=amzn1.sym.34ec97f4-2778-4fd1-a311-ebd312ecb623%3Aamzn1.sym.34ec97f4-2778-4fd1-a311-ebd312ecb623&amp;cv_ct_cx=phones&amp;keywords=phones&amp;pd_rd_i=B0C45N5VPT&amp;pd_rd_r=e5f10a22-1dae-47ec-8131-8310220eae36&amp;pd_rd_w=v3CIi&amp;pd_rd_wg=39nwL&amp;pf_rd_p=34ec97f4-2778-4fd1-a311-ebd312ecb623&amp;pf_rd_r=VTYZPTX9J338CKSZ1JGG&amp;qid=1685771656&amp;sbo=RZvfv%2F%2FHxDF%2BO5021pAnSA%3D%3D&amp;sr=1-1-9e85f757-0438-470e-8160-8465beaa22d5\" target=\"_blank\"><span class=\"a-size-base-plus a-color-base a-text-normal\">realme narzo N53 (Feather Gold, 4GB+64GB) 33W Segment Fastest Charging | Slimmest Phone in Segment | 90 Hz Smooth Display</span> </a>,\n",
       " <a class=\"a-link-normal s-underline-text s-underline-link-text s-link-style a-text-normal\" href=\"/Samsung-Midnight-Storage-6000mAh-Battery/dp/B0B4F52B5X/ref=sxin_16_aspa_sqa?c_c=1580471489&amp;content-id=amzn1.sym.34ec97f4-2778-4fd1-a311-ebd312ecb623%3Aamzn1.sym.34ec97f4-2778-4fd1-a311-ebd312ecb623&amp;cv_ct_cx=phones&amp;keywords=phones&amp;pd_rd_i=B0B4F52B5X&amp;pd_rd_r=e5f10a22-1dae-47ec-8131-8310220eae36&amp;pd_rd_w=v3CIi&amp;pd_rd_wg=39nwL&amp;pf_rd_p=34ec97f4-2778-4fd1-a311-ebd312ecb623&amp;pf_rd_r=VTYZPTX9J338CKSZ1JGG&amp;qid=1685771656&amp;sbo=RZvfv%2F%2FHxDF%2BO5021pAnSA%3D%3D&amp;sr=1-3-9e85f757-0438-470e-8160-8465beaa22d5\" target=\"_blank\"><span class=\"a-size-base-plus a-color-base a-text-normal\">Samsung Galaxy M13 (Midnight Blue, 4GB, 64GB Storage) | 6000mAh Battery | Upto 8GB RAM with RAM Plus</span> </a>,\n",
       " <a class=\"a-link-normal s-underline-text s-underline-link-text s-link-style a-text-normal\" href=\"/realme-Storage-Processor-Triple-Display/dp/B09RMN7HY3/ref=sxin_16_aspa_sqa?c_c=1580471489&amp;content-id=amzn1.sym.34ec97f4-2778-4fd1-a311-ebd312ecb623%3Aamzn1.sym.34ec97f4-2778-4fd1-a311-ebd312ecb623&amp;cv_ct_cx=phones&amp;keywords=phones&amp;pd_rd_i=B09RMN7HY3&amp;pd_rd_r=e5f10a22-1dae-47ec-8131-8310220eae36&amp;pd_rd_w=v3CIi&amp;pd_rd_wg=39nwL&amp;pf_rd_p=34ec97f4-2778-4fd1-a311-ebd312ecb623&amp;pf_rd_r=VTYZPTX9J338CKSZ1JGG&amp;qid=1685771656&amp;sbo=RZvfv%2F%2FHxDF%2BO5021pAnSA%3D%3D&amp;sr=1-5-9e85f757-0438-470e-8160-8465beaa22d5\" target=\"_blank\"><span class=\"a-size-base-plus a-color-base a-text-normal\">realme narzo 50 (Speed Black, 6GB RAM+128GB Storage) Helio G96 Processor | 50MP AI Triple Camera | 120Hz Ultra Smooth Display</span> </a>,\n",
       " <a class=\"a-link-normal s-underline-text s-underline-link-text s-link-style a-text-normal\" href=\"/realme-Segment-Fastest-Charging-High-res/dp/B0BZ48VZMR/ref=sxin_16_aspa_sqa?c_c=1580471489&amp;content-id=amzn1.sym.34ec97f4-2778-4fd1-a311-ebd312ecb623%3Aamzn1.sym.34ec97f4-2778-4fd1-a311-ebd312ecb623&amp;cv_ct_cx=phones&amp;keywords=phones&amp;pd_rd_i=B0BZ48VZMR&amp;pd_rd_r=e5f10a22-1dae-47ec-8131-8310220eae36&amp;pd_rd_w=v3CIi&amp;pd_rd_wg=39nwL&amp;pf_rd_p=34ec97f4-2778-4fd1-a311-ebd312ecb623&amp;pf_rd_r=VTYZPTX9J338CKSZ1JGG&amp;qid=1685771656&amp;sbo=RZvfv%2F%2FHxDF%2BO5021pAnSA%3D%3D&amp;sr=1-7-9e85f757-0438-470e-8160-8465beaa22d5\" target=\"_blank\"><span class=\"a-size-base-plus a-color-base a-text-normal\">realme narzo N55 (Prime Black, 4GB+64GB) 33W Segment Fastest Charging | Super High-res 64MP Primary AI Camera</span> </a>,\n",
       " <a class=\"a-link-normal s-underline-text s-underline-link-text s-link-style a-text-normal\" href=\"/Portronics-POR-1101-Car-Vent-Adjustable-Smartphones/dp/B08KSZJGRM/ref=sxin_16_aspa_sqa?c_c=-867479177&amp;content-id=amzn1.sym.34ec97f4-2778-4fd1-a311-ebd312ecb623%3Aamzn1.sym.34ec97f4-2778-4fd1-a311-ebd312ecb623&amp;cv_ct_cx=phones&amp;keywords=phones&amp;pd_rd_i=B08KSZJGRM&amp;pd_rd_r=e5f10a22-1dae-47ec-8131-8310220eae36&amp;pd_rd_w=v3CIi&amp;pd_rd_wg=39nwL&amp;pf_rd_p=34ec97f4-2778-4fd1-a311-ebd312ecb623&amp;pf_rd_r=VTYZPTX9J338CKSZ1JGG&amp;qid=1685771656&amp;sbo=RZvfv%2F%2FHxDF%2BO5021pAnSA%3D%3D&amp;sr=1-2-9e85f757-0438-470e-8160-8465beaa22d5\" target=\"_blank\"><span class=\"a-size-base-plus a-color-base a-text-normal\">Portronics CLAMP X POR-1101 Car-Vent Mobile Holder with Adjustable Side Arm for Smartphones (Z-Black)</span> </a>,\n",
       " <a class=\"a-link-normal s-underline-text s-underline-link-text s-link-style a-text-normal\" href=\"/Portronics-Adjustable-Rotational-Suction-Compatible/dp/B0B6HM36Z8/ref=sxin_16_aspa_sqa?c_c=-867479177&amp;content-id=amzn1.sym.34ec97f4-2778-4fd1-a311-ebd312ecb623%3Aamzn1.sym.34ec97f4-2778-4fd1-a311-ebd312ecb623&amp;cv_ct_cx=phones&amp;keywords=phones&amp;pd_rd_i=B0B6HM36Z8&amp;pd_rd_r=e5f10a22-1dae-47ec-8131-8310220eae36&amp;pd_rd_w=v3CIi&amp;pd_rd_wg=39nwL&amp;pf_rd_p=34ec97f4-2778-4fd1-a311-ebd312ecb623&amp;pf_rd_r=VTYZPTX9J338CKSZ1JGG&amp;qid=1685771656&amp;sbo=RZvfv%2F%2FHxDF%2BO5021pAnSA%3D%3D&amp;sr=1-4-9e85f757-0438-470e-8160-8465beaa22d5\" target=\"_blank\"><span class=\"a-size-base-plus a-color-base a-text-normal\">Portronics Clamp M2 Adjustable Car Mobile Phone Holder Stand, 360° Rotational, Strong Suction Cup, Compatible with 4 to 6 inch Devices(Black)</span> </a>,\n",
       " <a class=\"a-link-normal s-underline-text s-underline-link-text s-link-style a-text-normal\" href=\"/LISEN-Magnetic-Upgraded-Compatible-Smartphone/dp/B07YRKDF4P/ref=sxin_16_aspa_sqa?c_c=-867479177&amp;content-id=amzn1.sym.34ec97f4-2778-4fd1-a311-ebd312ecb623%3Aamzn1.sym.34ec97f4-2778-4fd1-a311-ebd312ecb623&amp;cv_ct_cx=phones&amp;keywords=phones&amp;pd_rd_i=B07YRKDF4P&amp;pd_rd_r=e5f10a22-1dae-47ec-8131-8310220eae36&amp;pd_rd_w=v3CIi&amp;pd_rd_wg=39nwL&amp;pf_rd_p=34ec97f4-2778-4fd1-a311-ebd312ecb623&amp;pf_rd_r=VTYZPTX9J338CKSZ1JGG&amp;qid=1685771656&amp;sbo=RZvfv%2F%2FHxDF%2BO5021pAnSA%3D%3D&amp;sr=1-6-9e85f757-0438-470e-8160-8465beaa22d5\" target=\"_blank\"><span class=\"a-size-base-plus a-color-base a-text-normal\">LISEN Magnetic Mobile Holder for Car, [Easily Install] Car Phone Holder Mount [6 Strong Magnets] Cell Phone Holder for Car Case Friendly iPhone Car Holder Compatible with All Smartphones &amp; Tablets</span> </a>,\n",
       " <a class=\"a-link-normal s-underline-text s-underline-link-text s-link-style a-text-normal\" href=\"/Signature-QS11-Magnetic-Universal-000CG20879/dp/B01M1I8N5F/ref=sxin_16_aspa_sqa?c_c=-867479177&amp;content-id=amzn1.sym.34ec97f4-2778-4fd1-a311-ebd312ecb623%3Aamzn1.sym.34ec97f4-2778-4fd1-a311-ebd312ecb623&amp;cv_ct_cx=phones&amp;keywords=phones&amp;pd_rd_i=B01M1I8N5F&amp;pd_rd_r=e5f10a22-1dae-47ec-8131-8310220eae36&amp;pd_rd_w=v3CIi&amp;pd_rd_wg=39nwL&amp;pf_rd_p=34ec97f4-2778-4fd1-a311-ebd312ecb623&amp;pf_rd_r=VTYZPTX9J338CKSZ1JGG&amp;qid=1685771656&amp;sbo=RZvfv%2F%2FHxDF%2BO5021pAnSA%3D%3D&amp;sr=1-8-9e85f757-0438-470e-8160-8465beaa22d5\" target=\"_blank\"><span class=\"a-size-base-plus a-color-base a-text-normal\">Spigen Kuel QS11 Quad Car Phone Mount Magnetic Air Vent Phone Holder QNMP Compatible with Most Smartphones - Black</span> </a>,\n",
       " <a class=\"a-link-normal s-underline-text s-underline-link-text s-link-style a-text-normal\" href=\"/Samsung-Midnight-Storage-6000mAh-Battery/dp/B0B4F52B5X/ref=sr_1_6?keywords=phones&amp;qid=1685771656&amp;sr=8-6\" target=\"_blank\"><span class=\"a-size-medium a-color-base a-text-normal\">Samsung Galaxy M13 (Midnight Blue, 4GB, 64GB Storage) | 6000mAh Battery | Upto 8GB RAM with RAM Plus</span> </a>,\n",
       " <a class=\"a-link-normal s-underline-text s-underline-link-text s-link-style a-text-normal\" href=\"/Redmi-Mystique-AMOLED-Snapdragon%C2%AE-Triple/dp/B0BQ3PJJDQ/ref=sr_1_7?keywords=phones&amp;qid=1685771656&amp;sr=8-7\" target=\"_blank\"><span class=\"a-size-medium a-color-base a-text-normal\">Redmi Note 12 5G Mystique Blue 4GB RAM 128GB ROM | 1st Phone with 120Hz Super AMOLED and Snapdragon® 4 Gen 1 | 48MP AI Triple Camera</span> </a>,\n",
       " <a class=\"a-link-normal s-underline-text s-underline-link-text s-link-style a-text-normal\" href=\"/realme-Segment-Fastest-Charging-High-res/dp/B0BZ48VZMR/ref=sr_1_8?keywords=phones&amp;qid=1685771656&amp;sr=8-8\" target=\"_blank\"><span class=\"a-size-medium a-color-base a-text-normal\">realme narzo N55 (Prime Black, 4GB+64GB) 33W Segment Fastest Charging | Super High-res 64MP Primary AI Camera</span> </a>,\n",
       " <a class=\"a-link-normal s-underline-text s-underline-link-text s-link-style a-text-normal\" href=\"/realme-Storage-Octa-core-Processor-Battery/dp/B0BBM7L888/ref=sr_1_9?keywords=phones&amp;qid=1685771656&amp;sr=8-9\" target=\"_blank\"><span class=\"a-size-medium a-color-base a-text-normal\">realme narzo 50i Prime (Dark Blue 4GB RAM+64GB Storage) Octa-core Processor | 5000 mAh Battery</span> </a>,\n",
       " <a class=\"a-link-normal s-underline-text s-underline-link-text s-link-style a-text-normal\" href=\"/Samsung-Storage-MediaTek-Octa-core-Processor/dp/B0BMGC6LHP/ref=sr_1_10?keywords=phones&amp;qid=1685771656&amp;sr=8-10\" target=\"_blank\"><span class=\"a-size-medium a-color-base a-text-normal\">Samsung Galaxy M04 Light Green, 4GB RAM, 128GB Storage | Upto 8GB RAM with RAM Plus | MediaTek Helio P35 Octa-core Processor | 5000 mAh Battery | 13MP Dual Camera</span> </a>,\n",
       " <a class=\"a-link-normal s-underline-text s-underline-link-text s-link-style a-text-normal\" href=\"/sspa/click?ie=UTF8&amp;spc=MToxODk0ODQ0NDA1NDY4NDI2OjE2ODU3NzE2NTY6c3BfbXRmOjIwMDc5NjgyODUxMTAzOjowOjo&amp;url=%2FApple-iPhone-13-128GB-Midnight%2Fdp%2FB09G9HD6PD%2Fref%3Dsr_1_11_sspa%3Fkeywords%3Dphones%26qid%3D1685771656%26sr%3D8-11-spons%26sp_csd%3Dd2lkZ2V0TmFtZT1zcF9tdGY%26psc%3D1\" target=\"_blank\"><span class=\"a-size-medium a-color-base a-text-normal\">Apple iPhone 13 (128GB) - Midnight</span> </a>,\n",
       " <a class=\"a-link-normal s-underline-text s-underline-link-text s-link-style a-text-normal\" href=\"/sspa/click?ie=UTF8&amp;spc=MToxODk0ODQ0NDA1NDY4NDI2OjE2ODU3NzE2NTY6c3BfbXRmOjIwMTExMjExMjQ1Njk4OjowOjo&amp;url=%2FApple-iPhone-128GB-Space-Black%2Fdp%2FB0BDJ7P6NG%2Fref%3Dsr_1_12_sspa%3Fkeywords%3Dphones%26qid%3D1685771656%26sr%3D8-12-spons%26sp_csd%3Dd2lkZ2V0TmFtZT1zcF9tdGY%26psc%3D1\" target=\"_blank\"><span class=\"a-size-medium a-color-base a-text-normal\">Apple iPhone 14 Pro (128 GB) - Space Black</span> </a>,\n",
       " <a class=\"a-link-normal s-underline-text s-underline-link-text s-link-style a-text-normal\" href=\"/realme-Segment-Fastest-Charging-High-res/dp/B0BZ466BWW/ref=sr_1_13?keywords=phones&amp;qid=1685771656&amp;sr=8-13\" target=\"_blank\"><span class=\"a-size-medium a-color-base a-text-normal\">realme narzo N55 (Prime Blue, 6GB+128GB) 33W Segment Fastest Charging | Super High-res 64MP Primary AI Camera</span> </a>,\n",
       " <a class=\"a-link-normal s-underline-text s-underline-link-text s-link-style a-text-normal\" href=\"/Nokia-2660-keypad-inbuilt-Wireless/dp/B0B9YK24TF/ref=sr_1_14?keywords=phones&amp;qid=1685771656&amp;sr=8-14\" target=\"_blank\"><span class=\"a-size-medium a-color-base a-text-normal\">Nokia 2660 Flip 4G Volte keypad Phone with Dual SIM, Dual Screen, inbuilt MP3 Player &amp; Wireless FM Radio | Black</span> </a>,\n",
       " <a class=\"a-link-normal s-underline-text s-underline-link-text s-link-style a-text-normal\" href=\"/Nokia-Android-Smartphone-All-Day-Capacity/dp/B0BW5QRCPG/ref=sr_1_15?keywords=phones&amp;qid=1685771656&amp;sr=8-15\" target=\"_blank\"><span class=\"a-size-medium a-color-base a-text-normal\">Nokia C12 Android 12 (Go Edition) Smartphone, All-Day Battery, 4GB RAM (2GB RAM + 2GB Virtual RAM) + 64GB Capacity | Light Mint</span> </a>,\n",
       " <a class=\"a-link-normal s-underline-text s-underline-link-text s-link-style a-text-normal\" href=\"/Tecno-Endless-Storage-Camera-Memory/dp/B0BTLHJXXK/ref=sr_1_16?keywords=phones&amp;qid=1685771656&amp;sr=8-16\" target=\"_blank\"><span class=\"a-size-medium a-color-base a-text-normal\">Tecno POP 7 Pro (Endless Black, 2GB RAM,64GB Storage) | Type C Port | 12MP Dual Camera | Up to 4GB RAM with Memory Fusion</span> </a>,\n",
       " <a class=\"a-link-normal s-underline-text s-underline-link-text s-link-style a-text-normal\" href=\"/Samsung-Storage-MediaTek-Octa-core-Processor/dp/B0BMGG6NKT/ref=sr_1_17?keywords=phones&amp;qid=1685771656&amp;sr=8-17\" target=\"_blank\"><span class=\"a-size-medium a-color-base a-text-normal\">Samsung Galaxy M04 Dark Blue, 4GB RAM, 128GB Storage | Upto 8GB RAM with RAM Plus | MediaTek Helio P35 Octa-core Processor | 5000 mAh Battery | 13MP Dual Camera</span> </a>,\n",
       " <a class=\"a-link-normal s-underline-text s-underline-link-text s-link-style a-text-normal\" href=\"/realme-Feather-Segment-Charging-Slimmest/dp/B0C45VWDWJ/ref=sr_1_18?keywords=phones&amp;qid=1685771656&amp;sr=8-18\" target=\"_blank\"><span class=\"a-size-medium a-color-base a-text-normal\">realme narzo N53 (Feather Black, 4GB+64GB) 33W Segment Fastest Charging | Slimmest Phone in Segment | 90 Hz Smooth Display</span> </a>,\n",
       " <a class=\"a-link-normal s-underline-text s-underline-link-text s-link-style a-text-normal\" href=\"/realme-Storage-Octa-core-Processor-Battery/dp/B0BBMBL64D/ref=sr_1_19?keywords=phones&amp;qid=1685771656&amp;sr=8-19\" target=\"_blank\"><span class=\"a-size-medium a-color-base a-text-normal\">realme narzo 50i Prime (Mint Green 3GB RAM+32GB Storage) Octa-core Processor | 5000 mAh Battery</span> </a>,\n",
       " <a class=\"a-link-normal s-underline-text s-underline-link-text s-link-style a-text-normal\" href=\"/Redmi-Power-Black-128GB-Storage/dp/B09Y64H8VS/ref=sr_1_20?keywords=phones&amp;qid=1685771656&amp;sr=8-20\" target=\"_blank\"><span class=\"a-size-medium a-color-base a-text-normal\">Redmi 10 Power (Power Black, 8GB RAM, 128GB Storage)</span> </a>,\n",
       " <a class=\"a-link-normal s-underline-text s-underline-link-text s-link-style a-text-normal\" href=\"/sspa/click?ie=UTF8&amp;spc=MToxODk0ODQ0NDA1NDY4NDI2OjE2ODU3NzE2NTY6c3BfYnRmOjIwMDM1NTMzNDQyMjk4OjowOjo&amp;url=%2FApple-iPhone-SE-Starlight-Generation%2Fdp%2FB09V4C4DBR%2Fref%3Dsr_1_21_sspa%3Fkeywords%3Dphones%26qid%3D1685771656%26sr%3D8-21-spons%26sp_csd%3Dd2lkZ2V0TmFtZT1zcF9idGY%26psc%3D1\" target=\"_blank\"><span class=\"a-size-medium a-color-base a-text-normal\">Apple iPhone SE (64 GB) - Starlight (3rd Generation)</span> </a>,\n",
       " <a class=\"a-link-normal s-underline-text s-underline-link-text s-link-style a-text-normal\" href=\"/sspa/click?ie=UTF8&amp;spc=MToxODk0ODQ0NDA1NDY4NDI2OjE2ODU3NzE2NTY6c3BfYnRmOjIwMTExMjExMjQ2OTk4OjowOjo&amp;url=%2FApple-iPhone-128GB-Space-Black%2Fdp%2FB0BDJ22G36%2Fref%3Dsr_1_22_sspa%3Fkeywords%3Dphones%26qid%3D1685771656%26sr%3D8-22-spons%26sp_csd%3Dd2lkZ2V0TmFtZT1zcF9idGY%26psc%3D1\" target=\"_blank\"><span class=\"a-size-medium a-color-base a-text-normal\">Apple iPhone 14 Pro Max (128 GB) - Space Black</span> </a>]"
      ]
     },
     "execution_count": 8,
     "metadata": {},
     "output_type": "execute_result"
    }
   ],
   "source": [
    "links = soup.find_all('a', attrs={'class' : 'a-link-normal s-underline-text s-underline-link-text s-link-style a-text-normal'})\n",
    "links"
   ]
  },
  {
   "cell_type": "code",
   "execution_count": 15,
   "metadata": {},
   "outputs": [
    {
     "data": {
      "text/plain": [
       "30"
      ]
     },
     "execution_count": 15,
     "metadata": {},
     "output_type": "execute_result"
    }
   ],
   "source": [
    "len(links)"
   ]
  },
  {
   "cell_type": "code",
   "execution_count": 10,
   "metadata": {},
   "outputs": [
    {
     "data": {
      "text/plain": [
       "'Apple iPhone 14 Plus (128 GB) - Starlight'"
      ]
     },
     "execution_count": 10,
     "metadata": {},
     "output_type": "execute_result"
    }
   ],
   "source": [
    "links[0].span.text"
   ]
  },
  {
   "cell_type": "code",
   "execution_count": 11,
   "metadata": {},
   "outputs": [
    {
     "data": {
      "text/plain": [
       "'/sspa/click?ie=UTF8&spc=MToxODk0ODQ0NDA1NDY4NDI2OjE2ODU3NzE2NTY6c3BfYXRmOjIwMTExMjExMjQ0Mzk4OjowOjo&url=%2FApple-iPhone-Plus-128GB-Starlight%2Fdp%2FB0BDJFTGK6%2Fref%3Dsr_1_1_sspa%3Fkeywords%3Dphones%26qid%3D1685771656%26sr%3D8-1-spons%26sp_csd%3Dd2lkZ2V0TmFtZT1zcF9hdGY%26psc%3D1'"
      ]
     },
     "execution_count": 11,
     "metadata": {},
     "output_type": "execute_result"
    }
   ],
   "source": [
    "links[0].get('href')"
   ]
  },
  {
   "cell_type": "code",
   "execution_count": 12,
   "metadata": {},
   "outputs": [
    {
     "data": {
      "text/plain": [
       "'https://amazon.in/sspa/click?ie=UTF8&spc=MToxODk0ODQ0NDA1NDY4NDI2OjE2ODU3NzE2NTY6c3BfYXRmOjIwMTExMjExMjQ0Mzk4OjowOjo&url=%2FApple-iPhone-Plus-128GB-Starlight%2Fdp%2FB0BDJFTGK6%2Fref%3Dsr_1_1_sspa%3Fkeywords%3Dphones%26qid%3D1685771656%26sr%3D8-1-spons%26sp_csd%3Dd2lkZ2V0TmFtZT1zcF9hdGY%26psc%3D1'"
      ]
     },
     "execution_count": 12,
     "metadata": {},
     "output_type": "execute_result"
    }
   ],
   "source": [
    "product_link = \"https://amazon.in\" + links[0].get('href')\n",
    "product_link"
   ]
  },
  {
   "cell_type": "code",
   "execution_count": 13,
   "metadata": {},
   "outputs": [
    {
     "data": {
      "text/plain": [
       "<Response [200]>"
      ]
     },
     "execution_count": 13,
     "metadata": {},
     "output_type": "execute_result"
    }
   ],
   "source": [
    "product_webpage = requests.get(url=product_link, headers=header)\n",
    "product_webpage"
   ]
  },
  {
   "cell_type": "code",
   "execution_count": 14,
   "metadata": {},
   "outputs": [],
   "source": [
    "product_soup = BeautifulSoup(product_webpage.content,'html.parser')\n"
   ]
  },
  {
   "cell_type": "code",
   "execution_count": 15,
   "metadata": {},
   "outputs": [
    {
     "data": {
      "text/plain": [
       "'Samsung Galaxy M33 5G (Mystique Green, 6GB, 128GB Storage) | 6000mAh Battery | Upto 12GB RAM with RAM Plus | Without Charger'"
      ]
     },
     "execution_count": 15,
     "metadata": {},
     "output_type": "execute_result"
    }
   ],
   "source": [
    "product_soup.find('span',attrs={'id' : \"productTitle\"}).text.strip()"
   ]
  },
  {
   "cell_type": "code",
   "execution_count": 16,
   "metadata": {},
   "outputs": [],
   "source": [
    "product_soup.find('span',attrs={'class' : 'a-size-medium product-title-word-break product-title-resize'})"
   ]
  },
  {
   "cell_type": "code",
   "execution_count": 17,
   "metadata": {},
   "outputs": [
    {
     "data": {
      "text/plain": [
       "'₹15,999.00'"
      ]
     },
     "execution_count": 17,
     "metadata": {},
     "output_type": "execute_result"
    }
   ],
   "source": [
    "product_soup.find('span',attrs={'class' : \"a-offscreen\"}).text"
   ]
  },
  {
   "cell_type": "code",
   "execution_count": 18,
   "metadata": {},
   "outputs": [
    {
     "data": {
      "text/plain": [
       "'-36%'"
      ]
     },
     "execution_count": 18,
     "metadata": {},
     "output_type": "execute_result"
    }
   ],
   "source": [
    "product_soup.find('span',attrs={'class' : 'a-size-large a-color-price savingPriceOverride aok-align-center reinventPriceSavingsPercentageMargin savingsPercentage'}).text"
   ]
  },
  {
   "cell_type": "code",
   "execution_count": 19,
   "metadata": {},
   "outputs": [
    {
     "data": {
      "text/plain": [
       "'4.1'"
      ]
     },
     "execution_count": 19,
     "metadata": {},
     "output_type": "execute_result"
    }
   ],
   "source": [
    "product_soup.find('div',attrs={'id' : 'averageCustomerReviews'}).find('span',attrs={'class' : 'a-size-base a-color-base'}).text.strip()"
   ]
  },
  {
   "cell_type": "code",
   "execution_count": 20,
   "metadata": {},
   "outputs": [
    {
     "data": {
      "text/plain": [
       "'Samsung'"
      ]
     },
     "execution_count": 20,
     "metadata": {},
     "output_type": "execute_result"
    }
   ],
   "source": [
    "product_soup.find('tr',attrs={'class' : 'a-spacing-small po-brand'}).find('span',attrs={'class' : 'a-size-base po-break-word'}).text"
   ]
  },
  {
   "cell_type": "code",
   "execution_count": 21,
   "metadata": {},
   "outputs": [
    {
     "data": {
      "text/plain": [
       "'Samsung Galaxy M33 5G'"
      ]
     },
     "execution_count": 21,
     "metadata": {},
     "output_type": "execute_result"
    }
   ],
   "source": [
    "product_soup.find('tr', attrs={'class':'a-spacing-small po-model_name'}).find('span',attrs={'class':'a-size-base po-break-word'}).text"
   ]
  },
  {
   "cell_type": "code",
   "execution_count": 22,
   "metadata": {},
   "outputs": [
    {
     "data": {
      "text/plain": [
       "'Android 12.0'"
      ]
     },
     "execution_count": 22,
     "metadata": {},
     "output_type": "execute_result"
    }
   ],
   "source": [
    "product_soup.find('tr',attrs={'class':'a-spacing-small po-operating_system'}).find('span',attrs={'class':'a-size-base po-break-word'}).text"
   ]
  },
  {
   "cell_type": "code",
   "execution_count": 23,
   "metadata": {},
   "outputs": [
    {
     "data": {
      "text/plain": [
       "'5G'"
      ]
     },
     "execution_count": 23,
     "metadata": {},
     "output_type": "execute_result"
    }
   ],
   "source": [
    "product_soup.find('tr',attrs={'class':'a-spacing-small po-cellular_technology'}).find('span',attrs={'class':'a-size-base po-break-word'}).text"
   ]
  },
  {
   "cell_type": "code",
   "execution_count": null,
   "metadata": {},
   "outputs": [],
   "source": []
  },
  {
   "cell_type": "code",
   "execution_count": 24,
   "metadata": {},
   "outputs": [],
   "source": [
    "def get_title(soup):\n",
    "    try:\n",
    "        title = soup.find(\"span\",attrs={\"id\" : \"productTitle\"})\n",
    "        title_value = title.text\n",
    "        title_string = title_value.strip()\n",
    "    except AttributeError:\n",
    "        title_string = \"\"\n",
    "    print(title_string)\n",
    "    return title_string\n",
    "\n",
    "def get_brand(soup):\n",
    "    try:\n",
    "        brand = soup.find('tr',attrs={'class' : 'a-spacing-small po-brand'}).find('span',attrs={'class' : 'a-size-base po-break-word'})\n",
    "        brand_value = brand.text\n",
    "        brand_string = brand_value.strip()\n",
    "    except AttributeError:\n",
    "        brand_string = \"\"\n",
    "    return brand_string\n",
    "\n",
    "def get_model(soup):\n",
    "    try:\n",
    "        model = soup.find('tr', attrs={'class':'a-spacing-small po-model_name'}).find('span',attrs={'class':'a-size-base po-break-word'})\n",
    "        model_value = model.text\n",
    "        model_string = model_value.strip()\n",
    "    except AttributeError:\n",
    "        model_string = \"\"\n",
    "    return model_string\n",
    "\n",
    "def get_price(soup):\n",
    "    try:\n",
    "        price = soup.find('span',attrs={'class' : 'a-offscreen'})\n",
    "        price_value = price.text\n",
    "        price_string = price_value.strip()\n",
    "    except AttributeError:\n",
    "        price_string = \"\"\n",
    "    return price_string\n",
    "\n",
    "def get_os(soup):\n",
    "    try:\n",
    "        os = soup.find('tr',attrs={'class':'a-spacing-small po-operating_system'}).find('span',attrs={'class':'a-size-base po-break-word'})\n",
    "        os_value = os.text\n",
    "        os_string = os_value.strip()\n",
    "    except AttributeError:\n",
    "        os_string = \"\"\n",
    "    return os_string\n",
    "\n",
    "def get_cellular(soup):\n",
    "    try:\n",
    "        cellular = soup.find('tr',attrs={'class':'a-spacing-small po-cellular_technology'}).find('span',attrs={'class':'a-size-base po-break-word'})\n",
    "        cellular_value = cellular.text\n",
    "        cellular_string = cellular_value.strip()\n",
    "    except AttributeError:\n",
    "        cellular_string = \"\"\n",
    "    return cellular_string"
   ]
  },
  {
   "cell_type": "code",
   "execution_count": 28,
   "metadata": {},
   "outputs": [
    {
     "name": "stdout",
     "output_type": "stream",
     "text": [
      "<Response [200]>\n",
      "Samsung Galaxy M33 5G (Mystique Green, 6GB, 128GB Storage) | 6000mAh Battery | Upto 12GB RAM with RAM Plus | Without Charger\n",
      "<Response [200]>\n",
      "Tecno Spark 9 (Infinity Black, 4GB RAM,64GB Storage) | 7GB Expandable RAM | Helio G37 Gaming Processor\n",
      "<Response [200]>\n",
      "Samsung Galaxy M04 Dark Blue, 4GB RAM, 128GB Storage | Upto 8GB RAM with RAM Plus | MediaTek Helio P35 Octa-core Processor | 5000 mAh Battery | 13MP Dual Camera\n",
      "<Response [200]>\n",
      "realme narzo 50 (Speed Black, 6GB RAM+128GB Storage) Helio G96 Processor | 50MP AI Triple Camera | 120Hz Ultra Smooth Display\n",
      "<Response [200]>\n",
      "Nokia C12 Android 12 (Go Edition) Smartphone, All-Day Battery, 4GB RAM (2GB RAM + 2GB Virtual RAM) + 64GB Capacity | Light Mint\n",
      "<Response [200]>\n",
      "realme narzo 50i Prime (Mint Green 3GB RAM+32GB Storage) Octa-core Processor | 5000 mAh Battery\n",
      "<Response [200]>\n",
      "realme narzo 50 (Speed Black, 6GB RAM+128GB Storage) Helio G96 Processor | 50MP AI Triple Camera | 120Hz Ultra Smooth Display\n",
      "<Response [200]>\n",
      "Redmi A1 (Light Green, 2GB RAM 32GB ROM) | Segment Best AI Dual Cam | 5000mAh Battery | Leather Texture Design | Android 12\n",
      "<Response [200]>\n",
      "realme narzo 50i (Carbon Black, 4GB RAM+64GB Storage) Octa Core Processor | 6.5\" inch Large Display\n",
      "<Response [200]>\n",
      "EGOTUDE Silicone Soft Case Camera Protection Microfiber Lining Back Cover for iPhone 14 Pro Max (Deep Purple)\n",
      "<Response [200]>\n",
      "Amozo Shockproof Liquid Silicone Designed for iPhone 14 / iPhone 13 Back Cover Case Gel Rubber Full Body Protection Anti-Shock Cover Case Drop Protection(Silicone|Black)\n",
      "<Response [200]>\n",
      "Elzzi Microfiber Logo Cut Cover Compatible for iPhone 13 Case Cushion Liquid Soft Silicone Gel Rubber Phone Cases Non-Slip Full Body Protective Shockproof Back Cover 6.1 inch, Mist Blue\n",
      "<Response [200]>\n",
      "DIZORO Liquid Silicone Compatible for iPhone 14 Case Gel Rubber with Microfiber Lining Non-Slip Full Body Protective Shockproof Back Cover (Lilac, 6.1 inch)\n",
      "<Response [200]>\n",
      "Redmi Note 12 5G Mystique Blue 4GB RAM 128GB ROM | 1st Phone with 120Hz Super AMOLED and Snapdragon® 4 Gen 1 | 48MP AI Triple Camera\n",
      "<Response [200]>\n",
      "Samsung Galaxy M04 Light Green, 4GB RAM, 64GB Storage | Upto 8GB RAM with RAM Plus | MediaTek Helio P35 Octa-core Processor | 5000 mAh Battery | 13MP Dual Camera\n",
      "<Response [200]>\n",
      "realme narzo 50i Prime (Mint Green 3GB RAM+32GB Storage) Octa-core Processor | 5000 mAh Battery\n",
      "<Response [200]>\n",
      "realme narzo N55 (Prime Blue, 6GB+128GB) 33W Segment Fastest Charging | Super High-res 64MP Primary AI Camera\n",
      "<Response [200]>\n",
      "OnePlus 11 5G (Titan Black, 8GB RAM, 128GB Storage)\n",
      "<Response [200]>\n",
      "iQOO 11 5G (Legend, 8GB RAM, 256 GB Storage) | Snapdragon ® 8 Gen 2 Mobile Platform | 2K E6 AMOLED Display | V2 Intelligent Display Chip\n",
      "<Response [200]>\n",
      "Redmi 12C (Royal Blue, 4GB RAM, 64GB Storage) | High Performance Mediatek Helio G85 | Big 17cm(6.71) HD+ Display with 5000mAh(typ) Battery with 10W Charger in-Box\n",
      "<Response [200]>\n",
      "Samsung Galaxy M13 (Midnight Blue, 4GB, 64GB Storage) | 6000mAh Battery | Upto 8GB RAM with RAM Plus\n",
      "<Response [200]>\n",
      "Redmi A1 (Light Green, 2GB RAM 32GB ROM) | Segment Best AI Dual Cam | 5000mAh Battery | Leather Texture Design | Android 12\n",
      "<Response [200]>\n",
      "realme narzo 50i (Carbon Black, 4GB RAM+64GB Storage) Octa Core Processor | 6.5\" inch Large Display\n",
      "<Response [200]>\n",
      "Redmi Note 12 5G Mystique Blue 6GB RAM 128GB ROM | 1st Phone with 120Hz Super AMOLED and Snapdragon® 4 Gen 1 | 48MP AI Triple Camera\n",
      "<Response [200]>\n",
      "Nokia 2660 Flip 4G Volte keypad Phone with Dual SIM, Dual Screen, inbuilt MP3 Player & Wireless FM Radio | Black\n",
      "<Response [200]>\n",
      "Redmi 12C (Matte Black, 4GB RAM, 64GB Storage) | High Performance Mediatek Helio G85 | Big 17cm(6.71) HD+ Display with 5000mAh(typ) Battery with 10W Charger in-Box\n",
      "<Response [200]>\n",
      "Redmi 11 Prime 5G (Thunder Black, 4GB RAM, 64GB Storage) | Prime Design | MTK Dimensity 700 | 50 MP Dual Cam | 5000mAh | 7 Band 5G\n",
      "<Response [200]>\n",
      "Redmi 10A (Charcoal Black, 4GB RAM, 64GB Storage) | 2 Ghz Octa Core Helio G25 | 5000 mAh Battery | Finger Print Sensor | Upto 5GB RAM with RAM Booster\n",
      "<Response [200]>\n",
      "IKALL Z6 4G Smartphone with 6.26 Inch HD Display (Android 10.0) (Dual SIM, 4GB RAM) (Green)\n",
      "<Response [200]>\n",
      "IKALL Z13 4G Smartphone (6.53 inch HD+ Display) (Dual SIM, 4G Network) (Grey)\n"
     ]
    }
   ],
   "source": [
    "productlist = []\n",
    "for link in links:\n",
    "    product = []\n",
    "    product_link = \"https://amazon.in\" + link.get('href')\n",
    "    product_webpage = requests.get(url = product_link,headers=header)\n",
    "    print(product_webpage)\n",
    "    product_soup = BeautifulSoup(product_webpage.content,\"html.parser\")\n",
    "    product.append(get_title(product_soup))\n",
    "    product.append(get_brand(product_soup))\n",
    "    product.append(get_model(product_soup))\n",
    "    product.append(get_price(product_soup))\n",
    "    product.append(get_os(product_soup))\n",
    "    product.append(get_cellular(product_soup))\n",
    "    productlist.append(product)"
   ]
  },
  {
   "cell_type": "code",
   "execution_count": 29,
   "metadata": {},
   "outputs": [
    {
     "name": "stdout",
     "output_type": "stream",
     "text": [
      "[['Samsung Galaxy M33 5G (Mystique Green, 6GB, 128GB Storage) | 6000mAh Battery | Upto 12GB RAM with RAM Plus | Without Charger', 'Samsung', 'Samsung Galaxy M33 5G', '₹15,999.00', 'Android 12.0', '5G'], ['Tecno Spark 9 (Infinity Black, 4GB RAM,64GB Storage) | 7GB Expandable RAM | Helio G37 Gaming Processor', 'Tecno', 'Spark 9', '₹7,799.00', 'HiOS 8.6 based on Android 12', '4G,3G,2G'], ['Samsung Galaxy M04 Dark Blue, 4GB RAM, 128GB Storage | Upto 8GB RAM with RAM Plus | MediaTek Helio P35 Octa-core Processor | 5000 mAh Battery | 13MP Dual Camera', 'Samsung', 'Samsung M04', '₹8,749.00', 'Android 12.0', '4G'], ['realme narzo 50 (Speed Black, 6GB RAM+128GB Storage) Helio G96 Processor | 50MP AI Triple Camera | 120Hz Ultra Smooth Display', 'realme', 'narzo 50', '₹13,499.00', 'Android 11.0', 'LTE'], ['Nokia C12 Android 12 (Go Edition) Smartphone, All-Day Battery, 4GB RAM (2GB RAM + 2GB Virtual RAM) + 64GB Capacity | Light Mint', 'Nokia', 'Nokia C12', '₹5,699.00', 'Android 12.0', '2G, 3G, 4G'], ['realme narzo 50i Prime (Mint Green 3GB RAM+32GB Storage) Octa-core Processor | 5000 mAh Battery', 'Realme', 'Realme narzo 50i Prime', '₹6,899.00', 'Android 11.0', 'LTE'], ['realme narzo 50 (Speed Black, 6GB RAM+128GB Storage) Helio G96 Processor | 50MP AI Triple Camera | 120Hz Ultra Smooth Display', 'Realme', 'Narzo 50', '₹13,499.00', 'Android 11.0', 'LTE'], ['Redmi A1 (Light Green, 2GB RAM 32GB ROM) | Segment Best AI Dual Cam | 5000mAh Battery | Leather Texture Design | Android 12', 'Redmi', 'Redmi A1', '₹5,699.00', 'Windows 11 Home', '4G'], ['realme narzo 50i (Carbon Black, 4GB RAM+64GB Storage) Octa Core Processor | 6.5\" inch Large Display', 'realme', 'realme narzo 50i', '₹7,999.00', 'Android 11.0', '4G'], ['EGOTUDE Silicone Soft Case Camera Protection Microfiber Lining Back Cover for iPhone 14 Pro Max (Deep Purple)', 'EGOTUDE', '', '₹279.00', '', ''], ['Amozo Shockproof Liquid Silicone Designed for iPhone 14 / iPhone 13 Back Cover Case Gel Rubber Full Body Protection Anti-Shock Cover Case Drop Protection(Silicone|Black)', 'Amozo', '', '₹284.00', '', ''], ['Elzzi Microfiber Logo Cut Cover Compatible for iPhone 13 Case Cushion Liquid Soft Silicone Gel Rubber Phone Cases Non-Slip Full Body Protective Shockproof Back Cover 6.1 inch, Mist Blue', 'Elzzi', '', '₹378.00', '', ''], ['DIZORO Liquid Silicone Compatible for iPhone 14 Case Gel Rubber with Microfiber Lining Non-Slip Full Body Protective Shockproof Back Cover (Lilac, 6.1 inch)', 'DIZORO', '', '₹284.05', '', ''], ['Redmi Note 12 5G Mystique Blue 4GB RAM 128GB ROM | 1st Phone with 120Hz Super AMOLED and Snapdragon® 4 Gen 1 | 48MP AI Triple Camera', 'Redmi', 'Redmi Note 12 5G', '₹16,999.00', 'MIUI 13', '5G'], ['Samsung Galaxy M04 Light Green, 4GB RAM, 64GB Storage | Upto 8GB RAM with RAM Plus | MediaTek Helio P35 Octa-core Processor | 5000 mAh Battery | 13MP Dual Camera', 'Samsung', 'Samsung M04', '₹7,749.00', 'Android 12.0', '4G'], ['realme narzo 50i Prime (Mint Green 3GB RAM+32GB Storage) Octa-core Processor | 5000 mAh Battery', 'Realme', 'Realme narzo 50i Prime', '₹6,899.00', 'Android 11.0', 'LTE'], ['realme narzo N55 (Prime Blue, 6GB+128GB) 33W Segment Fastest Charging | Super High-res 64MP Primary AI Camera', 'Realme', 'Realme narzo N55', '₹12,999.00', 'Android 13.0', '4G'], ['OnePlus 11 5G (Titan Black, 8GB RAM, 128GB Storage)', 'OnePlus', 'OnePlus 11 5G', '₹56,999.00', 'OxygenOS', '5G, 4G LTE'], ['iQOO 11 5G (Legend, 8GB RAM, 256 GB Storage) | Snapdragon ® 8 Gen 2 Mobile Platform | 2K E6 AMOLED Display | V2 Intelligent Display Chip', 'IQOO', 'IQOO 11 5G', '₹54,999.00', 'Funtouch OS 13 based on Android 13', '5G'], ['Redmi 12C (Royal Blue, 4GB RAM, 64GB Storage) | High Performance Mediatek Helio G85 | Big 17cm(6.71) HD+ Display with 5000mAh(typ) Battery with 10W Charger in-Box', 'Redmi', 'Redmi 12C', '₹8,799.00', 'MIUI 13, Android 12.0', '4G'], ['Samsung Galaxy M13 (Midnight Blue, 4GB, 64GB Storage) | 6000mAh Battery | Upto 8GB RAM with RAM Plus', 'Samsung', 'Samsung Galaxy M13', '₹9,699.00', 'Android 12.0', '4G'], ['Redmi A1 (Light Green, 2GB RAM 32GB ROM) | Segment Best AI Dual Cam | 5000mAh Battery | Leather Texture Design | Android 12', 'Redmi', 'Redmi A1', '₹5,699.00', 'Windows 11 Home', '4G'], ['realme narzo 50i (Carbon Black, 4GB RAM+64GB Storage) Octa Core Processor | 6.5\" inch Large Display', 'Realme', 'Realme narzo 50i', '₹7,999.00', 'Android 11.0', '4G'], ['Redmi Note 12 5G Mystique Blue 6GB RAM 128GB ROM | 1st Phone with 120Hz Super AMOLED and Snapdragon® 4 Gen 1 | 48MP AI Triple Camera', 'Redmi', 'Redmi Note 12 5G', '₹18,999.00', 'MIUI 13', '5G'], ['Nokia 2660 Flip 4G Volte keypad Phone with Dual SIM, Dual Screen, inbuilt MP3 Player & Wireless FM Radio | Black', 'Nokia', '2660 Flip', '₹4,499.00', 'S30+', '4G'], ['Redmi 12C (Matte Black, 4GB RAM, 64GB Storage) | High Performance Mediatek Helio G85 | Big 17cm(6.71) HD+ Display with 5000mAh(typ) Battery with 10W Charger in-Box', 'Redmi', 'Redmi 12C', '₹8,799.00', 'MIUI 13, Android 12.0', '4G'], ['Redmi 11 Prime 5G (Thunder Black, 4GB RAM, 64GB Storage) | Prime Design | MTK Dimensity 700 | 50 MP Dual Cam | 5000mAh | 7 Band 5G', 'Redmi', 'Redmi 11 Prime 5G', '₹12,999.00', 'MIUI 13', '5G'], ['Redmi 10A (Charcoal Black, 4GB RAM, 64GB Storage) | 2 Ghz Octa Core Helio G25 | 5000 mAh Battery | Finger Print Sensor | Upto 5GB RAM with RAM Booster', 'Redmi', 'Redmi 10A', '₹8,499.00', 'MIUI 12.5', '4G'], ['IKALL Z6 4G Smartphone with 6.26 Inch HD Display (Android 10.0) (Dual SIM, 4GB RAM) (Green)', 'IKALL', 'Z6', '₹6,499.00', 'Android 10.0', '4G'], ['IKALL Z13 4G Smartphone (6.53 inch HD+ Display) (Dual SIM, 4G Network) (Grey)', 'IKALL', 'Z13', '₹6,499.00', 'Android 10.0', '4G']]\n"
     ]
    }
   ],
   "source": [
    "print(productlist)"
   ]
  },
  {
   "cell_type": "code",
   "execution_count": 30,
   "metadata": {},
   "outputs": [
    {
     "data": {
      "text/plain": [
       "30"
      ]
     },
     "execution_count": 30,
     "metadata": {},
     "output_type": "execute_result"
    }
   ],
   "source": [
    "len(productlist)"
   ]
  },
  {
   "cell_type": "code",
   "execution_count": 31,
   "metadata": {},
   "outputs": [
    {
     "data": {
      "text/html": [
       "<div>\n",
       "<style scoped>\n",
       "    .dataframe tbody tr th:only-of-type {\n",
       "        vertical-align: middle;\n",
       "    }\n",
       "\n",
       "    .dataframe tbody tr th {\n",
       "        vertical-align: top;\n",
       "    }\n",
       "\n",
       "    .dataframe thead th {\n",
       "        text-align: right;\n",
       "    }\n",
       "</style>\n",
       "<table border=\"1\" class=\"dataframe\">\n",
       "  <thead>\n",
       "    <tr style=\"text-align: right;\">\n",
       "      <th></th>\n",
       "      <th>title</th>\n",
       "      <th>brand</th>\n",
       "      <th>model</th>\n",
       "      <th>price</th>\n",
       "      <th>os</th>\n",
       "      <th>cellular</th>\n",
       "    </tr>\n",
       "  </thead>\n",
       "  <tbody>\n",
       "    <tr>\n",
       "      <th>0</th>\n",
       "      <td>Samsung Galaxy M33 5G (Mystique Green, 6GB, 12...</td>\n",
       "      <td>Samsung</td>\n",
       "      <td>Samsung Galaxy M33 5G</td>\n",
       "      <td>₹15,999.00</td>\n",
       "      <td>Android 12.0</td>\n",
       "      <td>5G</td>\n",
       "    </tr>\n",
       "    <tr>\n",
       "      <th>1</th>\n",
       "      <td>Tecno Spark 9 (Infinity Black, 4GB RAM,64GB St...</td>\n",
       "      <td>Tecno</td>\n",
       "      <td>Spark 9</td>\n",
       "      <td>₹7,799.00</td>\n",
       "      <td>HiOS 8.6 based on Android 12</td>\n",
       "      <td>4G,3G,2G</td>\n",
       "    </tr>\n",
       "    <tr>\n",
       "      <th>2</th>\n",
       "      <td>Samsung Galaxy M04 Dark Blue, 4GB RAM, 128GB S...</td>\n",
       "      <td>Samsung</td>\n",
       "      <td>Samsung M04</td>\n",
       "      <td>₹8,749.00</td>\n",
       "      <td>Android 12.0</td>\n",
       "      <td>4G</td>\n",
       "    </tr>\n",
       "    <tr>\n",
       "      <th>3</th>\n",
       "      <td>realme narzo 50 (Speed Black, 6GB RAM+128GB St...</td>\n",
       "      <td>realme</td>\n",
       "      <td>narzo 50</td>\n",
       "      <td>₹13,499.00</td>\n",
       "      <td>Android 11.0</td>\n",
       "      <td>LTE</td>\n",
       "    </tr>\n",
       "    <tr>\n",
       "      <th>4</th>\n",
       "      <td>Nokia C12 Android 12 (Go Edition) Smartphone, ...</td>\n",
       "      <td>Nokia</td>\n",
       "      <td>Nokia C12</td>\n",
       "      <td>₹5,699.00</td>\n",
       "      <td>Android 12.0</td>\n",
       "      <td>2G, 3G, 4G</td>\n",
       "    </tr>\n",
       "    <tr>\n",
       "      <th>5</th>\n",
       "      <td>realme narzo 50i Prime (Mint Green 3GB RAM+32G...</td>\n",
       "      <td>Realme</td>\n",
       "      <td>Realme narzo 50i Prime</td>\n",
       "      <td>₹6,899.00</td>\n",
       "      <td>Android 11.0</td>\n",
       "      <td>LTE</td>\n",
       "    </tr>\n",
       "    <tr>\n",
       "      <th>6</th>\n",
       "      <td>realme narzo 50 (Speed Black, 6GB RAM+128GB St...</td>\n",
       "      <td>Realme</td>\n",
       "      <td>Narzo 50</td>\n",
       "      <td>₹13,499.00</td>\n",
       "      <td>Android 11.0</td>\n",
       "      <td>LTE</td>\n",
       "    </tr>\n",
       "    <tr>\n",
       "      <th>7</th>\n",
       "      <td>Redmi A1 (Light Green, 2GB RAM 32GB ROM) | Seg...</td>\n",
       "      <td>Redmi</td>\n",
       "      <td>Redmi A1</td>\n",
       "      <td>₹5,699.00</td>\n",
       "      <td>Windows 11 Home</td>\n",
       "      <td>4G</td>\n",
       "    </tr>\n",
       "    <tr>\n",
       "      <th>8</th>\n",
       "      <td>realme narzo 50i (Carbon Black, 4GB RAM+64GB S...</td>\n",
       "      <td>realme</td>\n",
       "      <td>realme narzo 50i</td>\n",
       "      <td>₹7,999.00</td>\n",
       "      <td>Android 11.0</td>\n",
       "      <td>4G</td>\n",
       "    </tr>\n",
       "    <tr>\n",
       "      <th>9</th>\n",
       "      <td>EGOTUDE Silicone Soft Case Camera Protection M...</td>\n",
       "      <td>EGOTUDE</td>\n",
       "      <td></td>\n",
       "      <td>₹279.00</td>\n",
       "      <td></td>\n",
       "      <td></td>\n",
       "    </tr>\n",
       "    <tr>\n",
       "      <th>10</th>\n",
       "      <td>Amozo Shockproof Liquid Silicone Designed for ...</td>\n",
       "      <td>Amozo</td>\n",
       "      <td></td>\n",
       "      <td>₹284.00</td>\n",
       "      <td></td>\n",
       "      <td></td>\n",
       "    </tr>\n",
       "    <tr>\n",
       "      <th>11</th>\n",
       "      <td>Elzzi Microfiber Logo Cut Cover Compatible for...</td>\n",
       "      <td>Elzzi</td>\n",
       "      <td></td>\n",
       "      <td>₹378.00</td>\n",
       "      <td></td>\n",
       "      <td></td>\n",
       "    </tr>\n",
       "    <tr>\n",
       "      <th>12</th>\n",
       "      <td>DIZORO Liquid Silicone Compatible for iPhone 1...</td>\n",
       "      <td>DIZORO</td>\n",
       "      <td></td>\n",
       "      <td>₹284.05</td>\n",
       "      <td></td>\n",
       "      <td></td>\n",
       "    </tr>\n",
       "    <tr>\n",
       "      <th>13</th>\n",
       "      <td>Redmi Note 12 5G Mystique Blue 4GB RAM 128GB R...</td>\n",
       "      <td>Redmi</td>\n",
       "      <td>Redmi Note 12 5G</td>\n",
       "      <td>₹16,999.00</td>\n",
       "      <td>MIUI 13</td>\n",
       "      <td>5G</td>\n",
       "    </tr>\n",
       "    <tr>\n",
       "      <th>14</th>\n",
       "      <td>Samsung Galaxy M04 Light Green, 4GB RAM, 64GB ...</td>\n",
       "      <td>Samsung</td>\n",
       "      <td>Samsung M04</td>\n",
       "      <td>₹7,749.00</td>\n",
       "      <td>Android 12.0</td>\n",
       "      <td>4G</td>\n",
       "    </tr>\n",
       "    <tr>\n",
       "      <th>15</th>\n",
       "      <td>realme narzo 50i Prime (Mint Green 3GB RAM+32G...</td>\n",
       "      <td>Realme</td>\n",
       "      <td>Realme narzo 50i Prime</td>\n",
       "      <td>₹6,899.00</td>\n",
       "      <td>Android 11.0</td>\n",
       "      <td>LTE</td>\n",
       "    </tr>\n",
       "    <tr>\n",
       "      <th>16</th>\n",
       "      <td>realme narzo N55 (Prime Blue, 6GB+128GB) 33W S...</td>\n",
       "      <td>Realme</td>\n",
       "      <td>Realme narzo N55</td>\n",
       "      <td>₹12,999.00</td>\n",
       "      <td>Android 13.0</td>\n",
       "      <td>4G</td>\n",
       "    </tr>\n",
       "    <tr>\n",
       "      <th>17</th>\n",
       "      <td>OnePlus 11 5G (Titan Black, 8GB RAM, 128GB Sto...</td>\n",
       "      <td>OnePlus</td>\n",
       "      <td>OnePlus 11 5G</td>\n",
       "      <td>₹56,999.00</td>\n",
       "      <td>OxygenOS</td>\n",
       "      <td>5G, 4G LTE</td>\n",
       "    </tr>\n",
       "    <tr>\n",
       "      <th>18</th>\n",
       "      <td>iQOO 11 5G (Legend, 8GB RAM, 256 GB Storage) |...</td>\n",
       "      <td>IQOO</td>\n",
       "      <td>IQOO 11 5G</td>\n",
       "      <td>₹54,999.00</td>\n",
       "      <td>Funtouch OS 13 based on Android 13</td>\n",
       "      <td>5G</td>\n",
       "    </tr>\n",
       "    <tr>\n",
       "      <th>19</th>\n",
       "      <td>Redmi 12C (Royal Blue, 4GB RAM, 64GB Storage) ...</td>\n",
       "      <td>Redmi</td>\n",
       "      <td>Redmi 12C</td>\n",
       "      <td>₹8,799.00</td>\n",
       "      <td>MIUI 13, Android 12.0</td>\n",
       "      <td>4G</td>\n",
       "    </tr>\n",
       "    <tr>\n",
       "      <th>20</th>\n",
       "      <td>Samsung Galaxy M13 (Midnight Blue, 4GB, 64GB S...</td>\n",
       "      <td>Samsung</td>\n",
       "      <td>Samsung Galaxy M13</td>\n",
       "      <td>₹9,699.00</td>\n",
       "      <td>Android 12.0</td>\n",
       "      <td>4G</td>\n",
       "    </tr>\n",
       "    <tr>\n",
       "      <th>21</th>\n",
       "      <td>Redmi A1 (Light Green, 2GB RAM 32GB ROM) | Seg...</td>\n",
       "      <td>Redmi</td>\n",
       "      <td>Redmi A1</td>\n",
       "      <td>₹5,699.00</td>\n",
       "      <td>Windows 11 Home</td>\n",
       "      <td>4G</td>\n",
       "    </tr>\n",
       "    <tr>\n",
       "      <th>22</th>\n",
       "      <td>realme narzo 50i (Carbon Black, 4GB RAM+64GB S...</td>\n",
       "      <td>Realme</td>\n",
       "      <td>Realme narzo 50i</td>\n",
       "      <td>₹7,999.00</td>\n",
       "      <td>Android 11.0</td>\n",
       "      <td>4G</td>\n",
       "    </tr>\n",
       "    <tr>\n",
       "      <th>23</th>\n",
       "      <td>Redmi Note 12 5G Mystique Blue 6GB RAM 128GB R...</td>\n",
       "      <td>Redmi</td>\n",
       "      <td>Redmi Note 12 5G</td>\n",
       "      <td>₹18,999.00</td>\n",
       "      <td>MIUI 13</td>\n",
       "      <td>5G</td>\n",
       "    </tr>\n",
       "    <tr>\n",
       "      <th>24</th>\n",
       "      <td>Nokia 2660 Flip 4G Volte keypad Phone with Dua...</td>\n",
       "      <td>Nokia</td>\n",
       "      <td>2660 Flip</td>\n",
       "      <td>₹4,499.00</td>\n",
       "      <td>S30+</td>\n",
       "      <td>4G</td>\n",
       "    </tr>\n",
       "    <tr>\n",
       "      <th>25</th>\n",
       "      <td>Redmi 12C (Matte Black, 4GB RAM, 64GB Storage)...</td>\n",
       "      <td>Redmi</td>\n",
       "      <td>Redmi 12C</td>\n",
       "      <td>₹8,799.00</td>\n",
       "      <td>MIUI 13, Android 12.0</td>\n",
       "      <td>4G</td>\n",
       "    </tr>\n",
       "    <tr>\n",
       "      <th>26</th>\n",
       "      <td>Redmi 11 Prime 5G (Thunder Black, 4GB RAM, 64G...</td>\n",
       "      <td>Redmi</td>\n",
       "      <td>Redmi 11 Prime 5G</td>\n",
       "      <td>₹12,999.00</td>\n",
       "      <td>MIUI 13</td>\n",
       "      <td>5G</td>\n",
       "    </tr>\n",
       "    <tr>\n",
       "      <th>27</th>\n",
       "      <td>Redmi 10A (Charcoal Black, 4GB RAM, 64GB Stora...</td>\n",
       "      <td>Redmi</td>\n",
       "      <td>Redmi 10A</td>\n",
       "      <td>₹8,499.00</td>\n",
       "      <td>MIUI 12.5</td>\n",
       "      <td>4G</td>\n",
       "    </tr>\n",
       "    <tr>\n",
       "      <th>28</th>\n",
       "      <td>IKALL Z6 4G Smartphone with 6.26 Inch HD Displ...</td>\n",
       "      <td>IKALL</td>\n",
       "      <td>Z6</td>\n",
       "      <td>₹6,499.00</td>\n",
       "      <td>Android 10.0</td>\n",
       "      <td>4G</td>\n",
       "    </tr>\n",
       "    <tr>\n",
       "      <th>29</th>\n",
       "      <td>IKALL Z13 4G Smartphone (6.53 inch HD+ Display...</td>\n",
       "      <td>IKALL</td>\n",
       "      <td>Z13</td>\n",
       "      <td>₹6,499.00</td>\n",
       "      <td>Android 10.0</td>\n",
       "      <td>4G</td>\n",
       "    </tr>\n",
       "  </tbody>\n",
       "</table>\n",
       "</div>"
      ],
      "text/plain": [
       "                                                title    brand  \\\n",
       "0   Samsung Galaxy M33 5G (Mystique Green, 6GB, 12...  Samsung   \n",
       "1   Tecno Spark 9 (Infinity Black, 4GB RAM,64GB St...    Tecno   \n",
       "2   Samsung Galaxy M04 Dark Blue, 4GB RAM, 128GB S...  Samsung   \n",
       "3   realme narzo 50 (Speed Black, 6GB RAM+128GB St...   realme   \n",
       "4   Nokia C12 Android 12 (Go Edition) Smartphone, ...    Nokia   \n",
       "5   realme narzo 50i Prime (Mint Green 3GB RAM+32G...   Realme   \n",
       "6   realme narzo 50 (Speed Black, 6GB RAM+128GB St...   Realme   \n",
       "7   Redmi A1 (Light Green, 2GB RAM 32GB ROM) | Seg...    Redmi   \n",
       "8   realme narzo 50i (Carbon Black, 4GB RAM+64GB S...   realme   \n",
       "9   EGOTUDE Silicone Soft Case Camera Protection M...  EGOTUDE   \n",
       "10  Amozo Shockproof Liquid Silicone Designed for ...    Amozo   \n",
       "11  Elzzi Microfiber Logo Cut Cover Compatible for...    Elzzi   \n",
       "12  DIZORO Liquid Silicone Compatible for iPhone 1...   DIZORO   \n",
       "13  Redmi Note 12 5G Mystique Blue 4GB RAM 128GB R...    Redmi   \n",
       "14  Samsung Galaxy M04 Light Green, 4GB RAM, 64GB ...  Samsung   \n",
       "15  realme narzo 50i Prime (Mint Green 3GB RAM+32G...   Realme   \n",
       "16  realme narzo N55 (Prime Blue, 6GB+128GB) 33W S...   Realme   \n",
       "17  OnePlus 11 5G (Titan Black, 8GB RAM, 128GB Sto...  OnePlus   \n",
       "18  iQOO 11 5G (Legend, 8GB RAM, 256 GB Storage) |...     IQOO   \n",
       "19  Redmi 12C (Royal Blue, 4GB RAM, 64GB Storage) ...    Redmi   \n",
       "20  Samsung Galaxy M13 (Midnight Blue, 4GB, 64GB S...  Samsung   \n",
       "21  Redmi A1 (Light Green, 2GB RAM 32GB ROM) | Seg...    Redmi   \n",
       "22  realme narzo 50i (Carbon Black, 4GB RAM+64GB S...   Realme   \n",
       "23  Redmi Note 12 5G Mystique Blue 6GB RAM 128GB R...    Redmi   \n",
       "24  Nokia 2660 Flip 4G Volte keypad Phone with Dua...    Nokia   \n",
       "25  Redmi 12C (Matte Black, 4GB RAM, 64GB Storage)...    Redmi   \n",
       "26  Redmi 11 Prime 5G (Thunder Black, 4GB RAM, 64G...    Redmi   \n",
       "27  Redmi 10A (Charcoal Black, 4GB RAM, 64GB Stora...    Redmi   \n",
       "28  IKALL Z6 4G Smartphone with 6.26 Inch HD Displ...    IKALL   \n",
       "29  IKALL Z13 4G Smartphone (6.53 inch HD+ Display...    IKALL   \n",
       "\n",
       "                     model       price                                  os  \\\n",
       "0    Samsung Galaxy M33 5G  ₹15,999.00                        Android 12.0   \n",
       "1                  Spark 9   ₹7,799.00        HiOS 8.6 based on Android 12   \n",
       "2              Samsung M04   ₹8,749.00                        Android 12.0   \n",
       "3                 narzo 50  ₹13,499.00                        Android 11.0   \n",
       "4                Nokia C12   ₹5,699.00                        Android 12.0   \n",
       "5   Realme narzo 50i Prime   ₹6,899.00                        Android 11.0   \n",
       "6                 Narzo 50  ₹13,499.00                        Android 11.0   \n",
       "7                 Redmi A1   ₹5,699.00                     Windows 11 Home   \n",
       "8         realme narzo 50i   ₹7,999.00                        Android 11.0   \n",
       "9                              ₹279.00                                       \n",
       "10                             ₹284.00                                       \n",
       "11                             ₹378.00                                       \n",
       "12                             ₹284.05                                       \n",
       "13        Redmi Note 12 5G  ₹16,999.00                             MIUI 13   \n",
       "14             Samsung M04   ₹7,749.00                        Android 12.0   \n",
       "15  Realme narzo 50i Prime   ₹6,899.00                        Android 11.0   \n",
       "16        Realme narzo N55  ₹12,999.00                        Android 13.0   \n",
       "17           OnePlus 11 5G  ₹56,999.00                            OxygenOS   \n",
       "18              IQOO 11 5G  ₹54,999.00  Funtouch OS 13 based on Android 13   \n",
       "19               Redmi 12C   ₹8,799.00               MIUI 13, Android 12.0   \n",
       "20      Samsung Galaxy M13   ₹9,699.00                        Android 12.0   \n",
       "21                Redmi A1   ₹5,699.00                     Windows 11 Home   \n",
       "22        Realme narzo 50i   ₹7,999.00                        Android 11.0   \n",
       "23        Redmi Note 12 5G  ₹18,999.00                             MIUI 13   \n",
       "24               2660 Flip   ₹4,499.00                                S30+   \n",
       "25               Redmi 12C   ₹8,799.00               MIUI 13, Android 12.0   \n",
       "26       Redmi 11 Prime 5G  ₹12,999.00                             MIUI 13   \n",
       "27               Redmi 10A   ₹8,499.00                           MIUI 12.5   \n",
       "28                      Z6   ₹6,499.00                        Android 10.0   \n",
       "29                     Z13   ₹6,499.00                        Android 10.0   \n",
       "\n",
       "      cellular  \n",
       "0           5G  \n",
       "1     4G,3G,2G  \n",
       "2           4G  \n",
       "3          LTE  \n",
       "4   2G, 3G, 4G  \n",
       "5          LTE  \n",
       "6          LTE  \n",
       "7           4G  \n",
       "8           4G  \n",
       "9               \n",
       "10              \n",
       "11              \n",
       "12              \n",
       "13          5G  \n",
       "14          4G  \n",
       "15         LTE  \n",
       "16          4G  \n",
       "17  5G, 4G LTE  \n",
       "18          5G  \n",
       "19          4G  \n",
       "20          4G  \n",
       "21          4G  \n",
       "22          4G  \n",
       "23          5G  \n",
       "24          4G  \n",
       "25          4G  \n",
       "26          5G  \n",
       "27          4G  \n",
       "28          4G  \n",
       "29          4G  "
      ]
     },
     "execution_count": 31,
     "metadata": {},
     "output_type": "execute_result"
    }
   ],
   "source": [
    "df = pd.DataFrame(productlist, columns=['title','brand','model','price','os','cellular'])\n",
    "df"
   ]
  },
  {
   "cell_type": "code",
   "execution_count": 32,
   "metadata": {},
   "outputs": [],
   "source": [
    "df.to_csv('phone.csv')"
   ]
  },
  {
   "cell_type": "code",
   "execution_count": null,
   "metadata": {},
   "outputs": [],
   "source": []
  }
 ],
 "metadata": {
  "kernelspec": {
   "display_name": "Python 3",
   "language": "python",
   "name": "python3"
  },
  "language_info": {
   "codemirror_mode": {
    "name": "ipython",
    "version": 3
   },
   "file_extension": ".py",
   "mimetype": "text/x-python",
   "name": "python",
   "nbconvert_exporter": "python",
   "pygments_lexer": "ipython3",
   "version": "3.8.3"
  },
  "orig_nbformat": 4
 },
 "nbformat": 4,
 "nbformat_minor": 2
}
